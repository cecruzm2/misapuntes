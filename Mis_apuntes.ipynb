{
  "nbformat": 4,
  "nbformat_minor": 0,
  "metadata": {
    "colab": {
      "provenance": [],
      "authorship_tag": "ABX9TyPfbZHLWwn0MdRVmha2YVG7",
      "include_colab_link": true
    },
    "kernelspec": {
      "name": "python3",
      "display_name": "Python 3"
    },
    "language_info": {
      "name": "python"
    }
  },
  "cells": [
    {
      "cell_type": "markdown",
      "metadata": {
        "id": "view-in-github",
        "colab_type": "text"
      },
      "source": [
        "<a href=\"https://colab.research.google.com/github/cecruzm2/misapuntes/blob/main/Mis_apuntes.ipynb\" target=\"_parent\"><img src=\"https://colab.research.google.com/assets/colab-badge.svg\" alt=\"Open In Colab\"/></a>"
      ]
    },
    {
      "cell_type": "code",
      "execution_count": null,
      "metadata": {
        "id": "cEDe5vzAfkIf"
      },
      "outputs": [],
      "source": []
    },
    {
      "cell_type": "code",
      "source": [
        "numero = 100\n",
        "print(numero)\n",
        "print(type(numero))"
      ],
      "metadata": {
        "colab": {
          "base_uri": "https://localhost:8080/"
        },
        "id": "vL6iB3BQgIwZ",
        "outputId": "2a9eb6fc-3d32-4575-c512-c654e01a907c"
      },
      "execution_count": null,
      "outputs": [
        {
          "output_type": "stream",
          "name": "stdout",
          "text": [
            "100\n",
            "<class 'int'>\n"
          ]
        }
      ]
    },
    {
      "cell_type": "markdown",
      "source": [
        "Escribir un programa que pregunte el nombre del usuario en la consola y después de que el usuario **lo introduzca muestre por pantalla la cadena ¡Hola <nombre>!, donde <nombre> es el nombre que el usuario haya introducido**\n",
        "\n",
        "\n",
        "```\n",
        "x = float(1)     # x will be 1.0\n",
        "y = float(2.8)   # y will be 2.8\n",
        "z = float(\"3\")   # z will be 3.0\n",
        "w = float(\"4.2\") # w will be 4.2\n",
        "```\n",
        "\n"
      ],
      "metadata": {
        "id": "Sq2-A6eKhx9l"
      }
    },
    {
      "cell_type": "code",
      "source": [
        "x = float(1)"
      ],
      "metadata": {
        "id": "JAjimHCTiyI6"
      },
      "execution_count": null,
      "outputs": []
    },
    {
      "cell_type": "markdown",
      "source": [
        "parte dos"
      ],
      "metadata": {
        "id": "1HUGgxqvjwka"
      }
    },
    {
      "cell_type": "code",
      "source": [
        "ejemplos = \"codigo\"\n",
        "print(ejemplos)"
      ],
      "metadata": {
        "id": "HgQ0EM_KjwQQ"
      },
      "execution_count": null,
      "outputs": []
    },
    {
      "cell_type": "code",
      "source": [
        "import pandas as pd\n"
      ],
      "metadata": {
        "id": "7Z5lyrQHkoKF"
      },
      "execution_count": 4,
      "outputs": []
    }
  ]
}